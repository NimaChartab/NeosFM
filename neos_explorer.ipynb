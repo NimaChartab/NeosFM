{
  "cells": [
    {
      "cell_type": "markdown",
      "metadata": {},
      "source": [
        "# NEOS Foundation Model Explorer\n",
        "\n",
        "Interactive exploration of similar objects.\n",
        "\n",
        "This notebook provides:\n",
        "- Interactive similarity search using learned 512D embeddings\n",
        "- UMAP visualization of embedding space\n",
        "- Quality filtering by SNR and magnitude\n",
        "- Real/Fake object classification visualization\n"
      ]
    },
    {
      "cell_type": "code",
      "execution_count": 10,
      "metadata": {},
      "outputs": [
        {
          "name": "stdout",
          "output_type": "stream",
          "text": [
            "NEOS Foundation Model Explorer - Ready!\n",
            "Libraries imported successfully (with module reload).\n"
          ]
        }
      ],
      "source": [
        "# Import required libraries\n",
        "import numpy as np\n",
        "import torch\n",
        "import warnings\n",
        "from pathlib import Path\n",
        "import importlib\n",
        "import sys\n",
        "\n",
        "# Clear any cached modules to ensure we get the latest code\n",
        "modules_to_reload = ['models.foundation_model', 'data.dataset', 'utils.similarity', 'utils.visualization']\n",
        "for module in modules_to_reload:\n",
        "    if module in sys.modules:\n",
        "        importlib.reload(sys.modules[module])\n",
        "\n",
        "# Import NEOS modules\n",
        "from models.foundation_model import NEOSFoundationModel\n",
        "from data.dataset import NEOSDataset, load_tabular_metadata, extract_labels\n",
        "from utils.similarity import generate_embeddings, create_umap_visualization\n",
        "from utils.visualization import NEOSExplorer\n",
        "\n",
        "warnings.filterwarnings('ignore')\n",
        "\n",
        "print(\"NEOS Foundation Model Explorer - Ready!\")\n",
        "print(\"Libraries imported successfully (with module reload).\")\n"
      ]
    },
    {
      "cell_type": "code",
      "execution_count": 11,
      "metadata": {},
      "outputs": [
        {
          "name": "stdout",
          "output_type": "stream",
          "text": [
            "Device: cuda\n",
            "Visit paths: 2 visits configured\n",
            "Model path: models/best_model.pt\n"
          ]
        }
      ],
      "source": [
        "# Configuration\n",
        "DEVICE = torch.device('cuda' if torch.cuda.is_available() else 'cpu')\n",
        "MODEL_PATH = 'models/best_model.pt'\n",
        "EMBEDDINGS_CACHE = 'model_embeddings.npz'\n",
        "\n",
        "# Data paths\n",
        "VISIT_PATHS = [\n",
        "    \"/neosp/tops/prod/s0012/t1/q3/l0/v00\",\n",
        "    \"/neosp/tops/prod/s0012/t1/q3/l0/v01\"\n",
        "]\n",
        "\n",
        "print(f\"Device: {DEVICE}\")\n",
        "print(f\"Visit paths: {len(VISIT_PATHS)} visits configured\")\n",
        "print(f\"Model path: {MODEL_PATH}\")\n"
      ]
    },
    {
      "cell_type": "code",
      "execution_count": 12,
      "metadata": {},
      "outputs": [
        {
          "name": "stdout",
          "output_type": "stream",
          "text": [
            "Loading pre-computed embeddings...\n",
            "Loaded 40,000 pre-computed 512D embeddings!\n",
            "\n",
            "Foundation Model Explorer Ready!\n",
            "   Total samples: 40,000\n",
            "   Real objects: 4,580\n",
            "   Fake objects: 35,420\n",
            "   Embedding dimension: 512D\n",
            "   UMAP 2D visualization: Ready\n"
          ]
        }
      ],
      "source": [
        "# Load or generate embeddings\n",
        "embeddings_file = Path(EMBEDDINGS_CACHE)\n",
        "\n",
        "if embeddings_file.exists():\n",
        "    print(\"Loading pre-computed embeddings...\")\n",
        "    data = np.load(embeddings_file)\n",
        "    embeddings = data['embeddings']\n",
        "    labels = data['labels'] \n",
        "    source_ids = data['source_ids']\n",
        "    embeddings_2d = data['embeddings_2d']\n",
        "    \n",
        "    print(f\"Loaded {len(embeddings):,} pre-computed 512D embeddings!\")\n",
        "    \n",
        "else:\n",
        "    print(\"Generating embeddings from foundation model...\")\n",
        "    \n",
        "    # Load the trained model\n",
        "    checkpoint = torch.load(MODEL_PATH, map_location=DEVICE, weights_only=False)\n",
        "    model = NEOSFoundationModel(tabular_dim=50, embed_dim=512)\n",
        "    model.load_state_dict(checkpoint['model_state_dict'])\n",
        "    model = model.to(DEVICE)\n",
        "    model.eval()\n",
        "    \n",
        "    print(f\"Model loaded (training loss: {checkpoint.get('loss', 'N/A'):.4f})\")\n",
        "    \n",
        "    # Load dataset\n",
        "    dataset = NEOSDataset(\n",
        "        visit_paths=VISIT_PATHS,\n",
        "        max_samples_per_visit=20000  # 40K total samples\n",
        "    )\n",
        "    \n",
        "    print(f\"Dataset loaded: {len(dataset)} samples\")\n",
        "    \n",
        "    # Load tabular metadata for labels\n",
        "    tabular_dict = load_tabular_metadata(VISIT_PATHS)\n",
        "    \n",
        "    # Generate embeddings\n",
        "    embeddings, source_ids = generate_embeddings(model, dataset, DEVICE)\n",
        "    \n",
        "    # Extract labels\n",
        "    labels = extract_labels(source_ids, tabular_dict)\n",
        "    \n",
        "    # Create UMAP visualization\n",
        "    print(\"Creating UMAP 2D visualization...\")\n",
        "    embeddings_2d = create_umap_visualization(embeddings)\n",
        "    \n",
        "    # Save for next time\n",
        "    np.savez(embeddings_file, \n",
        "             embeddings=embeddings, \n",
        "             source_ids=source_ids, \n",
        "             labels=labels,\n",
        "             embeddings_2d=embeddings_2d)\n",
        "    print(\"Saved embeddings for faster future loading!\")\n",
        "\n",
        "# Load tabular metadata\n",
        "tabular_dict = load_tabular_metadata(VISIT_PATHS)\n",
        "\n",
        "print(f\"\\nFoundation Model Explorer Ready!\")\n",
        "print(f\"   Total samples: {len(embeddings):,}\")\n",
        "print(f\"   Real objects: {(labels == 'Real').sum():,}\")\n",
        "print(f\"   Fake objects: {(labels == 'Fake').sum():,}\")\n",
        "print(f\"   Embedding dimension: {embeddings.shape[1]}D\")\n",
        "print(f\"   UMAP 2D visualization: Ready\") \n"
      ]
    },
    {
      "cell_type": "code",
      "execution_count": 13,
      "metadata": {},
      "outputs": [
        {
          "data": {
            "application/vnd.jupyter.widget-view+json": {
              "model_id": "faf77b72126142c6a89c11c02343b224",
              "version_major": 2,
              "version_minor": 0
            },
            "text/plain": [
              "VBox(children=(HTML(value='<h2>NEOS Foundation Model - Interactive Similarity Explorer</h2>'), HTML(value='<h3…"
            ]
          },
          "metadata": {},
          "output_type": "display_data"
        },
        {
          "data": {
            "application/vnd.jupyter.widget-view+json": {
              "model_id": "7310733b857a49299f999bbf3478294e",
              "version_major": 2,
              "version_minor": 0
            },
            "text/plain": [
              "Output()"
            ]
          },
          "metadata": {},
          "output_type": "display_data"
        }
      ],
      "source": [
        "# Create the interactive explorer\n",
        "explorer = NEOSExplorer(\n",
        "    embeddings=embeddings,\n",
        "    source_ids=source_ids,\n",
        "    labels=labels,\n",
        "    embeddings_2d=embeddings_2d,\n",
        "    tabular_dict=tabular_dict,\n",
        "    visit_paths=VISIT_PATHS\n",
        ")\n",
        "\n",
        "# Display the main interface\n",
        "explorer.display_interface()\n"
      ]
    },
    {
      "cell_type": "code",
      "execution_count": null,
      "metadata": {},
      "outputs": [],
      "source": []
    },
    {
      "cell_type": "code",
      "execution_count": null,
      "metadata": {},
      "outputs": [],
      "source": []
    },
    {
      "cell_type": "code",
      "execution_count": null,
      "metadata": {},
      "outputs": [],
      "source": []
    },
    {
      "cell_type": "code",
      "execution_count": null,
      "metadata": {},
      "outputs": [],
      "source": []
    }
  ],
  "metadata": {
    "kernelspec": {
      "display_name": "base",
      "language": "python",
      "name": "python3"
    },
    "language_info": {
      "codemirror_mode": {
        "name": "ipython",
        "version": 3
      },
      "file_extension": ".py",
      "mimetype": "text/x-python",
      "name": "python",
      "nbconvert_exporter": "python",
      "pygments_lexer": "ipython3",
      "version": "3.11.5"
    }
  },
  "nbformat": 4,
  "nbformat_minor": 2
}
